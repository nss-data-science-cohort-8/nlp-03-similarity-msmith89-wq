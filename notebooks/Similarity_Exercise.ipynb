{
 "cells": [
  {
   "cell_type": "markdown",
   "id": "a5632797-0363-42d8-a43c-2f982988d942",
   "metadata": {},
   "source": [
    "## Similarity Exercise"
   ]
  },
  {
   "cell_type": "code",
   "execution_count": 1,
   "id": "b25a562e-838d-4bed-ae52-ec12552b2406",
   "metadata": {},
   "outputs": [],
   "source": [
    "import pandas as pd\n",
    "import numpy as np\n",
    "\n",
    "from sklearn.feature_extraction.text import CountVectorizer, TfidfVectorizer\n",
    "from sklearn.metrics.pairwise import cosine_similarity\n",
    "from sklearn.preprocessing import normalize\n",
    "\n",
    "from sentence_transformers import SentenceTransformer\n",
    "import faiss"
   ]
  },
  {
   "cell_type": "markdown",
   "id": "1c7165c2-90ea-4381-9d3d-edf5c2e1a784",
   "metadata": {},
   "source": [
    "In this exercise, you've been provided the title and abstract of 500 recent machine learning research papers posted on arXiv.org."
   ]
  },
  {
   "cell_type": "code",
   "execution_count": 2,
   "id": "5d7a796d-eaef-4e97-b787-b4bf5811c73b",
   "metadata": {},
   "outputs": [
    {
     "data": {
      "text/html": [
       "<div>\n",
       "<style scoped>\n",
       "    .dataframe tbody tr th:only-of-type {\n",
       "        vertical-align: middle;\n",
       "    }\n",
       "\n",
       "    .dataframe tbody tr th {\n",
       "        vertical-align: top;\n",
       "    }\n",
       "\n",
       "    .dataframe thead th {\n",
       "        text-align: right;\n",
       "    }\n",
       "</style>\n",
       "<table border=\"1\" class=\"dataframe\">\n",
       "  <thead>\n",
       "    <tr style=\"text-align: right;\">\n",
       "      <th></th>\n",
       "      <th>title</th>\n",
       "      <th>abstract</th>\n",
       "      <th>url</th>\n",
       "    </tr>\n",
       "  </thead>\n",
       "  <tbody>\n",
       "    <tr>\n",
       "      <th>0</th>\n",
       "      <td>GoT-R1: Unleashing Reasoning Capability of MLL...</td>\n",
       "      <td>Visual generation models have made remarkable ...</td>\n",
       "      <td>http://arxiv.org/abs/2505.17022v1</td>\n",
       "    </tr>\n",
       "    <tr>\n",
       "      <th>1</th>\n",
       "      <td>Delving into RL for Image Generation with CoT:...</td>\n",
       "      <td>Recent advancements underscore the significant...</td>\n",
       "      <td>http://arxiv.org/abs/2505.17017v1</td>\n",
       "    </tr>\n",
       "    <tr>\n",
       "      <th>2</th>\n",
       "      <td>Interactive Post-Training for Vision-Language-...</td>\n",
       "      <td>We introduce RIPT-VLA, a simple and scalable r...</td>\n",
       "      <td>http://arxiv.org/abs/2505.17016v1</td>\n",
       "    </tr>\n",
       "    <tr>\n",
       "      <th>3</th>\n",
       "      <td>When Are Concepts Erased From Diffusion Models?</td>\n",
       "      <td>Concept erasure, the ability to selectively pr...</td>\n",
       "      <td>http://arxiv.org/abs/2505.17013v1</td>\n",
       "    </tr>\n",
       "    <tr>\n",
       "      <th>4</th>\n",
       "      <td>Understanding Prompt Tuning and In-Context Lea...</td>\n",
       "      <td>Prompting is one of the main ways to adapt a p...</td>\n",
       "      <td>http://arxiv.org/abs/2505.17010v1</td>\n",
       "    </tr>\n",
       "  </tbody>\n",
       "</table>\n",
       "</div>"
      ],
      "text/plain": [
       "                                               title  \\\n",
       "0  GoT-R1: Unleashing Reasoning Capability of MLL...   \n",
       "1  Delving into RL for Image Generation with CoT:...   \n",
       "2  Interactive Post-Training for Vision-Language-...   \n",
       "3    When Are Concepts Erased From Diffusion Models?   \n",
       "4  Understanding Prompt Tuning and In-Context Lea...   \n",
       "\n",
       "                                            abstract  \\\n",
       "0  Visual generation models have made remarkable ...   \n",
       "1  Recent advancements underscore the significant...   \n",
       "2  We introduce RIPT-VLA, a simple and scalable r...   \n",
       "3  Concept erasure, the ability to selectively pr...   \n",
       "4  Prompting is one of the main ways to adapt a p...   \n",
       "\n",
       "                                 url  \n",
       "0  http://arxiv.org/abs/2505.17022v1  \n",
       "1  http://arxiv.org/abs/2505.17017v1  \n",
       "2  http://arxiv.org/abs/2505.17016v1  \n",
       "3  http://arxiv.org/abs/2505.17013v1  \n",
       "4  http://arxiv.org/abs/2505.17010v1  "
      ]
     },
     "execution_count": 2,
     "metadata": {},
     "output_type": "execute_result"
    }
   ],
   "source": [
    "articles = pd.read_csv('../data/arxiv_papers.csv')\n",
    "articles.head()"
   ]
  },
  {
   "cell_type": "code",
   "execution_count": 3,
   "id": "65e6836f-5f36-4b60-b21b-b9cbf7e5ac06",
   "metadata": {},
   "outputs": [
    {
     "name": "stdout",
     "output_type": "stream",
     "text": [
      "Title: GoT-R1: Unleashing Reasoning Capability of MLLM for Visual Generation with Reinforcement Learning\n",
      "\n",
      "Text: Visual generation models have made remarkable progress in creating realistic\n",
      "images from text prompts, yet struggle with complex prompts that specify\n",
      "multiple objects with precise spatial relationships and attributes. Effective\n",
      "handling of such prompts requires explicit reasoning about the semantic content\n",
      "and spatial layout. We present GoT-R1, a framework that applies reinforcement\n",
      "learning to enhance semantic-spatial reasoning in visual generation. Building\n",
      "upon the Generation Chain-of-Thought approach, GoT-R1 enables models to\n",
      "autonomously discover effective reasoning strategies beyond predefined\n",
      "templates through carefully designed reinforcement learning. To achieve this,\n",
      "we propose a dual-stage multi-dimensional reward framework that leverages MLLMs\n",
      "to evaluate both the reasoning process and final output, enabling effective\n",
      "supervision across the entire generation pipeline. The reward system assesses\n",
      "semantic alignment, spatial accuracy, and visual quality in a unified approach.\n",
      "Experimental results demonstrate significant improvements on T2I-CompBench\n",
      "benchmark, particularly in compositional tasks involving precise spatial\n",
      "relationships and attribute binding. GoT-R1 advances the state-of-the-art in\n",
      "image generation by successfully transferring sophisticated reasoning\n",
      "capabilities to the visual generation domain. To facilitate future research, we\n",
      "make our code and pretrained models publicly available at\n",
      "https://github.com/gogoduan/GoT-R1.\n"
     ]
    }
   ],
   "source": [
    "i = 0\n",
    "print(f'Title: {articles.loc[i,\"title\"]}\\n')\n",
    "print(f'Text: {articles.loc[i,\"abstract\"]}')"
   ]
  },
  {
   "cell_type": "markdown",
   "id": "4ee63919-08d4-400b-bb35-3e9f1b70088a",
   "metadata": {},
   "source": [
    "Let's try out a variety of ways of vectorizing and searching for semantically-similar papers."
   ]
  },
  {
   "cell_type": "markdown",
   "id": "32294485-637d-4b77-9a9d-2badcdfeb6dd",
   "metadata": {},
   "source": [
    "### Method 1: Bag of Words"
   ]
  },
  {
   "cell_type": "markdown",
   "id": "7b788ee0-3070-4704-be92-8c442ff4c6d9",
   "metadata": {},
   "source": [
    "Fit a CountVectorizer to the abstracts of the articles with all of the defaults.  Then vectorize the dataset using the fit vectorizer. "
   ]
  },
  {
   "cell_type": "code",
   "execution_count": 37,
   "id": "7c4cc272-474c-4b48-9e77-5a80cb13534d",
   "metadata": {},
   "outputs": [],
   "source": [
    "vect = CountVectorizer()\n",
    "X = vect.fit_transform(articles['abstract'])"
   ]
  },
  {
   "cell_type": "code",
   "execution_count": 38,
   "id": "b78e8811-0027-4d0c-9dff-c78ffcca841d",
   "metadata": {},
   "outputs": [
    {
     "data": {
      "text/plain": [
       "scipy.sparse._csr.csr_matrix"
      ]
     },
     "execution_count": 38,
     "metadata": {},
     "output_type": "execute_result"
    }
   ],
   "source": [
    "type(X)"
   ]
  },
  {
   "cell_type": "markdown",
   "id": "7a2ee08b-50fa-468c-9655-47b110fa855b",
   "metadata": {},
   "source": [
    "**Question:** How many dimensions do the embeddings have?"
   ]
  },
  {
   "cell_type": "code",
   "execution_count": 39,
   "id": "03208e89-aa86-4daa-bbd8-5952cfe2df2f",
   "metadata": {},
   "outputs": [
    {
     "data": {
      "text/plain": [
       "7978"
      ]
     },
     "execution_count": 39,
     "metadata": {},
     "output_type": "execute_result"
    }
   ],
   "source": [
    "X.shape[1]"
   ]
  },
  {
   "attachments": {},
   "cell_type": "markdown",
   "id": "eecfe606-937c-409e-823a-745fe380d407",
   "metadata": {},
   "source": [
    "Now, let's use the embeddings to look for similar articles to a search query.\n",
    "\n",
    "Apply the vectorizer you fit earlier to this query string to get an embedding. \n",
    "\n",
    "**Hint:** You can't pass a string to a vectorizer, but you can pass a list containing a string."
   ]
  },
  {
   "cell_type": "code",
   "execution_count": 41,
   "id": "3f38271b-eb14-4619-8f00-604bcf9bbdda",
   "metadata": {},
   "outputs": [],
   "source": [
    "query = \"vector databases for retrieval augmented generation\"\n",
    "query_list = [query]\n",
    "y = vect.transform(query_list)"
   ]
  },
  {
   "cell_type": "code",
   "execution_count": 42,
   "id": "a7976c08-02a2-4248-aeba-73b39df5046a",
   "metadata": {},
   "outputs": [
    {
     "data": {
      "text/plain": [
       "['vector databases for retrieval augmented generation']"
      ]
     },
     "execution_count": 42,
     "metadata": {},
     "output_type": "execute_result"
    }
   ],
   "source": [
    "query_list"
   ]
  },
  {
   "cell_type": "markdown",
   "id": "09f2c931-5dcd-49b7-aa8f-b5bdab82a541",
   "metadata": {},
   "source": [
    "Now, we need to find the similarity between our query embedding and each vectorized article.\n",
    "\n",
    "For this, you can use the [cosine similarity function from scikit-learn.](https://scikit-learn.org/stable/modules/generated/sklearn.metrics.pairwise.cosine_similarity.html)\n",
    "\n",
    "Calculate the similarity between the query embedding and each article embedding and save the result to a variable named `similarity_scores`."
   ]
  },
  {
   "cell_type": "code",
   "execution_count": 43,
   "id": "0f558bfc-426f-4940-bebd-ce48398e48f8",
   "metadata": {
    "scrolled": true
   },
   "outputs": [
    {
     "data": {
      "text/plain": [
       "array([[0.11020775],\n",
       "       [0.08461622],\n",
       "       [0.01780047],\n",
       "       [0.04145133],\n",
       "       [0.03806935],\n",
       "       [0.0814463 ],\n",
       "       [0.06593805],\n",
       "       [0.03782347],\n",
       "       [0.        ],\n",
       "       [0.07059312],\n",
       "       [0.03462717],\n",
       "       [0.07968191],\n",
       "       [0.03857584],\n",
       "       [0.020646  ],\n",
       "       [0.03197647],\n",
       "       [0.01893206],\n",
       "       [0.04279605],\n",
       "       [0.03979361],\n",
       "       [0.05059374],\n",
       "       [0.01539738],\n",
       "       [0.01800706],\n",
       "       [0.0184995 ],\n",
       "       [0.03533326],\n",
       "       [0.        ],\n",
       "       [0.01879115],\n",
       "       [0.03510393],\n",
       "       [0.12309149],\n",
       "       [0.        ],\n",
       "       [0.04543109],\n",
       "       [0.09829464],\n",
       "       [0.10193473],\n",
       "       [0.062177  ],\n",
       "       [0.02197935],\n",
       "       [0.11200358],\n",
       "       [0.05493732],\n",
       "       [0.04188539],\n",
       "       [0.03503922],\n",
       "       [0.06100889],\n",
       "       [0.09866713],\n",
       "       [0.07699905],\n",
       "       [0.02475369],\n",
       "       [0.03209979],\n",
       "       [0.05309942],\n",
       "       [0.11826248],\n",
       "       [0.        ],\n",
       "       [0.02207554],\n",
       "       [0.0402259 ],\n",
       "       [0.09707137],\n",
       "       [0.06233787],\n",
       "       [0.06225728],\n",
       "       [0.05412659],\n",
       "       [0.06384424],\n",
       "       [0.        ],\n",
       "       [0.        ],\n",
       "       [0.01944039],\n",
       "       [0.1214167 ],\n",
       "       [0.0285133 ],\n",
       "       [0.09924856],\n",
       "       [0.        ],\n",
       "       [0.        ],\n",
       "       [0.        ],\n",
       "       [0.06944891],\n",
       "       [0.07385489],\n",
       "       [0.0285831 ],\n",
       "       [0.06463956],\n",
       "       [0.02733833],\n",
       "       [0.03914801],\n",
       "       [0.0955637 ],\n",
       "       [0.0843274 ],\n",
       "       [0.02810497],\n",
       "       [0.04072315],\n",
       "       [0.05878964],\n",
       "       [0.05236631],\n",
       "       [0.09014453],\n",
       "       [0.03219948],\n",
       "       [0.0549235 ],\n",
       "       [0.03083865],\n",
       "       [0.01631688],\n",
       "       [0.05990423],\n",
       "       [0.05402118],\n",
       "       [0.01885115],\n",
       "       [0.01747141],\n",
       "       [0.0209427 ],\n",
       "       [0.18057878],\n",
       "       [0.06085806],\n",
       "       [0.07938842],\n",
       "       [0.0417756 ],\n",
       "       [0.        ],\n",
       "       [0.05858749],\n",
       "       [0.05255883],\n",
       "       [0.07161149],\n",
       "       [0.02919786],\n",
       "       [0.05304959],\n",
       "       [0.0513327 ],\n",
       "       [0.02541643],\n",
       "       [0.10031397],\n",
       "       [0.02191592],\n",
       "       [0.04421577],\n",
       "       [0.        ],\n",
       "       [0.        ],\n",
       "       [0.0556846 ],\n",
       "       [0.04941662],\n",
       "       [0.01563263],\n",
       "       [0.04625798],\n",
       "       [0.        ],\n",
       "       [0.04227659],\n",
       "       [0.05412659],\n",
       "       [0.09673017],\n",
       "       [0.02303878],\n",
       "       [0.        ],\n",
       "       [0.        ],\n",
       "       [0.03497487],\n",
       "       [0.06912516],\n",
       "       [0.        ],\n",
       "       [0.06012036],\n",
       "       [0.        ],\n",
       "       [0.        ],\n",
       "       [0.05940885],\n",
       "       [0.03883678],\n",
       "       [0.01769981],\n",
       "       [0.06868028],\n",
       "       [0.        ],\n",
       "       [0.04828045],\n",
       "       [0.02169815],\n",
       "       [0.05055063],\n",
       "       [0.1067521 ],\n",
       "       [0.06889728],\n",
       "       [0.08943542],\n",
       "       [0.06102782],\n",
       "       [0.04087596],\n",
       "       [0.10499013],\n",
       "       [0.01640888],\n",
       "       [0.06291092],\n",
       "       [0.11377602],\n",
       "       [0.06956083],\n",
       "       [0.01966463],\n",
       "       [0.03314057],\n",
       "       [0.04814969],\n",
       "       [0.03232541],\n",
       "       [0.06666667],\n",
       "       [0.        ],\n",
       "       [0.05673521],\n",
       "       [0.        ],\n",
       "       [0.        ],\n",
       "       [0.01971041],\n",
       "       [0.03510393],\n",
       "       [0.06752237],\n",
       "       [0.04752932],\n",
       "       [0.0429735 ],\n",
       "       [0.02598937],\n",
       "       [0.06128514],\n",
       "       [0.01825742],\n",
       "       [0.        ],\n",
       "       [0.03333333],\n",
       "       [0.04774553],\n",
       "       [0.102706  ],\n",
       "       [0.        ],\n",
       "       [0.04871774],\n",
       "       [0.        ],\n",
       "       [0.        ],\n",
       "       [0.0673435 ],\n",
       "       [0.06617222],\n",
       "       [0.04729838],\n",
       "       [0.0496904 ],\n",
       "       [0.        ],\n",
       "       [0.04235869],\n",
       "       [0.05926956],\n",
       "       [0.02503131],\n",
       "       [0.01840525],\n",
       "       [0.04351941],\n",
       "       [0.13315591],\n",
       "       [0.02204334],\n",
       "       [0.09996002],\n",
       "       [0.        ],\n",
       "       [0.0246183 ],\n",
       "       [0.12445669],\n",
       "       [0.        ],\n",
       "       [0.03149704],\n",
       "       [0.02154652],\n",
       "       [0.02452926],\n",
       "       [0.08478078],\n",
       "       [0.10526899],\n",
       "       [0.02965649],\n",
       "       [0.03015799],\n",
       "       [0.04571503],\n",
       "       [0.08956222],\n",
       "       [0.05907962],\n",
       "       [0.07053456],\n",
       "       [0.0210538 ],\n",
       "       [0.        ],\n",
       "       [0.03673592],\n",
       "       [0.06752237],\n",
       "       [0.02837522],\n",
       "       [0.04389513],\n",
       "       [0.09712859],\n",
       "       [0.05012547],\n",
       "       [0.07322913],\n",
       "       [0.05450043],\n",
       "       [0.        ],\n",
       "       [0.02448511],\n",
       "       [0.05208145],\n",
       "       [0.02938635],\n",
       "       [0.02892179],\n",
       "       [0.02803861],\n",
       "       [0.06613001],\n",
       "       [0.03577136],\n",
       "       [0.0522233 ],\n",
       "       [0.03640578],\n",
       "       [0.02844401],\n",
       "       [0.10107974],\n",
       "       [0.05969041],\n",
       "       [0.05555556],\n",
       "       [0.11009638],\n",
       "       [0.0421076 ],\n",
       "       [0.0513327 ],\n",
       "       [0.07179582],\n",
       "       [0.07617845],\n",
       "       [0.05460867],\n",
       "       [0.1148288 ],\n",
       "       [0.02207554],\n",
       "       [0.        ],\n",
       "       [0.06094276],\n",
       "       [0.07280353],\n",
       "       [0.04841229],\n",
       "       [0.13545709],\n",
       "       [0.06846532],\n",
       "       [0.02257618],\n",
       "       [0.04345773],\n",
       "       [0.02793994],\n",
       "       [0.04959864],\n",
       "       [0.05773503],\n",
       "       [0.02056725],\n",
       "       [0.0285831 ],\n",
       "       [0.13977654],\n",
       "       [0.02435405],\n",
       "       [0.        ],\n",
       "       [0.07094757],\n",
       "       [0.01823919],\n",
       "       [0.07238115],\n",
       "       [0.        ],\n",
       "       [0.02069901],\n",
       "       [0.04062222],\n",
       "       [0.03145027],\n",
       "       [0.03766218],\n",
       "       [0.02629758],\n",
       "       [0.06804138],\n",
       "       [0.        ],\n",
       "       [0.08043618],\n",
       "       [0.06428243],\n",
       "       [0.09707137],\n",
       "       [0.04300661],\n",
       "       [0.03573708],\n",
       "       [0.        ],\n",
       "       [0.04145133],\n",
       "       [0.08986064],\n",
       "       [0.03209979],\n",
       "       [0.        ],\n",
       "       [0.        ],\n",
       "       [0.02879561],\n",
       "       [0.26978155],\n",
       "       [0.04047223],\n",
       "       [0.03402069],\n",
       "       [0.08195758],\n",
       "       [0.        ],\n",
       "       [0.12424948],\n",
       "       [0.03253   ],\n",
       "       [0.04622502],\n",
       "       [0.01642215],\n",
       "       [0.        ],\n",
       "       [0.02182179],\n",
       "       [0.03553345],\n",
       "       [0.0469065 ],\n",
       "       [0.0381941 ],\n",
       "       [0.0855921 ],\n",
       "       [0.05572782],\n",
       "       [0.03936479],\n",
       "       [0.04652421],\n",
       "       [0.01903467],\n",
       "       [0.03786412],\n",
       "       [0.0854676 ],\n",
       "       [0.03597914],\n",
       "       [0.        ],\n",
       "       [0.02686077],\n",
       "       [0.08861943],\n",
       "       [0.09787004],\n",
       "       [0.08206099],\n",
       "       [0.        ],\n",
       "       [0.        ],\n",
       "       [0.03112864],\n",
       "       [0.18926175],\n",
       "       [0.04494666],\n",
       "       [0.        ],\n",
       "       [0.02326211],\n",
       "       [0.02041241],\n",
       "       [0.04467671],\n",
       "       [0.0410824 ],\n",
       "       [0.03422932],\n",
       "       [0.02663118],\n",
       "       [0.        ],\n",
       "       [0.05073463],\n",
       "       [0.01499738],\n",
       "       [0.06956083],\n",
       "       [0.06642112],\n",
       "       [0.        ],\n",
       "       [0.07216878],\n",
       "       [0.03001501],\n",
       "       [0.        ],\n",
       "       [0.03308611],\n",
       "       [0.04228289],\n",
       "       [0.07303564],\n",
       "       [0.        ],\n",
       "       [0.09449112],\n",
       "       [0.04291411],\n",
       "       [0.08948747],\n",
       "       [0.08688101],\n",
       "       [0.075521  ],\n",
       "       [0.        ],\n",
       "       [0.04501491],\n",
       "       [0.03688556],\n",
       "       [0.02414023],\n",
       "       [0.04522156],\n",
       "       [0.        ],\n",
       "       [0.        ],\n",
       "       [0.02777778],\n",
       "       [0.12038585],\n",
       "       [0.02122382],\n",
       "       [0.0835512 ],\n",
       "       [0.02525784],\n",
       "       [0.11705751],\n",
       "       [0.07838618],\n",
       "       [0.0695048 ],\n",
       "       [0.        ],\n",
       "       [0.06870054],\n",
       "       [0.1026654 ],\n",
       "       [0.0695048 ],\n",
       "       [0.        ],\n",
       "       [0.01673655],\n",
       "       [0.1255618 ],\n",
       "       [0.06004806],\n",
       "       [0.05006262],\n",
       "       [0.04978268],\n",
       "       [0.0246183 ],\n",
       "       [0.07181896],\n",
       "       [0.07319251],\n",
       "       [0.05072375],\n",
       "       [0.        ],\n",
       "       [0.03853286],\n",
       "       [0.03419928],\n",
       "       [0.02746175],\n",
       "       [0.        ],\n",
       "       [0.03673592],\n",
       "       [0.08226901],\n",
       "       [0.03205029],\n",
       "       [0.01726706],\n",
       "       [0.08691546],\n",
       "       [0.09259855],\n",
       "       [0.06632365],\n",
       "       [0.05241424],\n",
       "       [0.06691496],\n",
       "       [0.1015453 ],\n",
       "       [0.05396871],\n",
       "       [0.12216944],\n",
       "       [0.0278423 ],\n",
       "       [0.06209703],\n",
       "       [0.02536731],\n",
       "       [0.02122382],\n",
       "       [0.02207554],\n",
       "       [0.0667161 ],\n",
       "       [0.1253201 ],\n",
       "       [0.04637389],\n",
       "       [0.01911798],\n",
       "       [0.01939646],\n",
       "       [0.03419928],\n",
       "       [0.04376881],\n",
       "       [0.        ],\n",
       "       [0.02154652],\n",
       "       [0.06721661],\n",
       "       [0.02289343],\n",
       "       [0.01928792],\n",
       "       [0.02539184],\n",
       "       [0.02311251],\n",
       "       [0.06994974],\n",
       "       [0.01857594],\n",
       "       [0.04845016],\n",
       "       [0.12070114],\n",
       "       [0.08808607],\n",
       "       [0.07430376],\n",
       "       [0.03224968],\n",
       "       [0.05350323],\n",
       "       [0.04474374],\n",
       "       [0.03786412],\n",
       "       [0.09053575],\n",
       "       [0.03692325],\n",
       "       [0.        ],\n",
       "       [0.15681251],\n",
       "       [0.0568191 ],\n",
       "       [0.        ],\n",
       "       [0.04445542],\n",
       "       [0.051131  ],\n",
       "       [0.09656091],\n",
       "       [0.05661385],\n",
       "       [0.03049262],\n",
       "       [0.09412416],\n",
       "       [0.07469137],\n",
       "       [0.07244095],\n",
       "       [0.03523443],\n",
       "       [0.10327956],\n",
       "       [0.105605  ],\n",
       "       [0.04062222],\n",
       "       [0.02296576],\n",
       "       [0.10953767],\n",
       "       [0.05330018],\n",
       "       [0.02353104],\n",
       "       [0.        ],\n",
       "       [0.04037316],\n",
       "       [0.02318694],\n",
       "       [0.01959655],\n",
       "       [0.0381941 ],\n",
       "       [0.0315912 ],\n",
       "       [0.0515254 ],\n",
       "       [0.06390396],\n",
       "       [0.05063697],\n",
       "       [0.        ],\n",
       "       [0.03101614],\n",
       "       [0.0174395 ],\n",
       "       [0.06622662],\n",
       "       [0.08134518],\n",
       "       [0.03955939],\n",
       "       [0.        ],\n",
       "       [0.05246231],\n",
       "       [0.        ],\n",
       "       [0.01502783],\n",
       "       [0.        ],\n",
       "       [0.02285752],\n",
       "       [0.0433963 ],\n",
       "       [0.07977694],\n",
       "       [0.01857594],\n",
       "       [0.05174337],\n",
       "       [0.08204442],\n",
       "       [0.08226901],\n",
       "       [0.10779361],\n",
       "       [0.04026936],\n",
       "       [0.02834101],\n",
       "       [0.06063391],\n",
       "       [0.03258176],\n",
       "       [0.06963106],\n",
       "       [0.0135482 ],\n",
       "       [0.04233338],\n",
       "       [0.02240554],\n",
       "       [0.04682929],\n",
       "       [0.14079065],\n",
       "       [0.        ],\n",
       "       [0.04792797],\n",
       "       [0.02681727],\n",
       "       [0.04370606],\n",
       "       [0.05741693],\n",
       "       [0.06201737],\n",
       "       [0.04402255],\n",
       "       [0.        ],\n",
       "       [0.04370606],\n",
       "       [0.04786388],\n",
       "       [0.07345532],\n",
       "       [0.05488213],\n",
       "       [0.07902608],\n",
       "       [0.        ],\n",
       "       [0.05969041],\n",
       "       [0.01676475],\n",
       "       [0.02872425],\n",
       "       [0.0860663 ],\n",
       "       [0.04593152],\n",
       "       [0.02566635],\n",
       "       [0.07407407],\n",
       "       [0.01907619],\n",
       "       [0.09072184],\n",
       "       [0.04082483],\n",
       "       [0.        ],\n",
       "       [0.08432291],\n",
       "       [0.04752932],\n",
       "       [0.13148792],\n",
       "       [0.03870565],\n",
       "       [0.07872958],\n",
       "       [0.        ],\n",
       "       [0.02879561],\n",
       "       [0.08725946],\n",
       "       [0.05270463],\n",
       "       [0.        ],\n",
       "       [0.17057206],\n",
       "       [0.09365858],\n",
       "       [0.08703883],\n",
       "       [0.03969942],\n",
       "       [0.03577136],\n",
       "       [0.04092728],\n",
       "       [0.03560094],\n",
       "       [0.        ],\n",
       "       [0.09517337],\n",
       "       [0.08417938],\n",
       "       [0.01922366],\n",
       "       [0.06207709],\n",
       "       [0.08290267],\n",
       "       [0.04205171]])"
      ]
     },
     "execution_count": 43,
     "metadata": {},
     "output_type": "execute_result"
    }
   ],
   "source": [
    "similarity_scores = cosine_similarity(X, y)\n",
    "similarity_scores"
   ]
  },
  {
   "cell_type": "markdown",
   "id": "1ef6eddc-b0a1-4fd0-8381-797313e2bcaa",
   "metadata": {},
   "source": [
    "Now, we need to find the most similar results. To help with this, we can use the [argsort function from numpy](https://numpy.org/doc/stable/reference/generated/numpy.argsort.html), which will give the indices sorted by value. \n",
    "\n",
    "Use the argsort function to find the indices of the 5 most similar articles. Inspect their titles and abstracts. **Warning:** argsort sorts from smallest to largest."
   ]
  },
  {
   "cell_type": "code",
   "execution_count": 48,
   "id": "9b3dffd0-5992-4879-a207-08dcc74afca1",
   "metadata": {},
   "outputs": [
    {
     "data": {
      "text/plain": [
       "array([394, 486,  83, 289, 259], dtype=int64)"
      ]
     },
     "execution_count": 48,
     "metadata": {},
     "output_type": "execute_result"
    }
   ],
   "source": [
    "\n",
    "similarity_score_sorted = np.argsort(similarity_scores.flatten())\n",
    "np.set_printoptions(threshold=np.inf)\n",
    "similarity_score_sorted[-5:]"
   ]
  },
  {
   "cell_type": "code",
   "execution_count": 52,
   "id": "b8f01a3f-22ab-42ed-941f-5a7cfcbf3431",
   "metadata": {},
   "outputs": [
    {
     "data": {
      "text/plain": [
       "['Scan, Materialize, Simulate: A Generalizable Framework for Physically Grounded Robot Planning',\n",
       " 'Explaining Neural Networks with Reasons',\n",
       " 'WikiDBGraph: Large-Scale Database Graph of Wikidata for Collaborative Learning',\n",
       " 'SCENIR: Visual Semantic Clarity through Unsupervised Scene Graph Retrieval',\n",
       " 'MIRB: Mathematical Information Retrieval Benchmark']"
      ]
     },
     "execution_count": 52,
     "metadata": {},
     "output_type": "execute_result"
    }
   ],
   "source": [
    "articles.loc[similarity_score_sorted[-5:], 'title'].tolist()"
   ]
  },
  {
   "cell_type": "markdown",
   "id": "cb94c418-8156-4e76-b41b-26276400a92a",
   "metadata": {},
   "source": [
    "Try using a tfidf vectorizer. How do the results compare?"
   ]
  },
  {
   "cell_type": "code",
   "execution_count": 53,
   "id": "4c5612d4-29a4-4f08-bbeb-efb4ed1f090d",
   "metadata": {},
   "outputs": [
    {
     "data": {
      "text/plain": [
       "array([486, 233, 289,  83, 259], dtype=int64)"
      ]
     },
     "execution_count": 53,
     "metadata": {},
     "output_type": "execute_result"
    }
   ],
   "source": [
    "tfidf = TfidfVectorizer()\n",
    "X2 = tfidf.fit_transform(articles['abstract'])\n",
    "y2 = tfidf.transform(query_list)\n",
    "similarity_scores2 = cosine_similarity(X2, y2)\n",
    "similarity_score_sorted2 = np.argsort(similarity_scores2.flatten())\n",
    "np.set_printoptions(threshold=np.inf)\n",
    "similarity_score_sorted2[-5:]"
   ]
  },
  {
   "cell_type": "code",
   "execution_count": 55,
   "id": "50fc83a2-39b5-4f12-9255-4109b7e81c83",
   "metadata": {},
   "outputs": [
    {
     "data": {
      "text/plain": [
       "['Explaining Neural Networks with Reasons',\n",
       " 'HDLxGraph: Bridging Large Language Models and HDL Repositories via HDL Graph Databases',\n",
       " 'SCENIR: Visual Semantic Clarity through Unsupervised Scene Graph Retrieval',\n",
       " 'WikiDBGraph: Large-Scale Database Graph of Wikidata for Collaborative Learning',\n",
       " 'MIRB: Mathematical Information Retrieval Benchmark']"
      ]
     },
     "execution_count": 55,
     "metadata": {},
     "output_type": "execute_result"
    }
   ],
   "source": [
    "articles.loc[similarity_score_sorted2[-5:], 'title'].tolist()"
   ]
  },
  {
   "cell_type": "markdown",
   "id": "1ed45785-5b64-4234-935a-2bb6e3636d5c",
   "metadata": {},
   "source": [
    "### Method 2: Using a Pretrained Embedding Model\n",
    "\n",
    "Now, let's compare how we do using the [all-MiniLM-L6-v2 embedding model](https://huggingface.co/sentence-transformers/all-MiniLM-L6-v2).\n",
    "\n",
    "This will create a 384-dimensional dense embedding of each sentence."
   ]
  },
  {
   "cell_type": "code",
   "execution_count": 15,
   "id": "c08b104a-2599-4f02-8bd0-147205f3ffe9",
   "metadata": {},
   "outputs": [
    {
     "data": {
      "application/vnd.jupyter.widget-view+json": {
       "model_id": "e70aa3f6820b4d7490e1bb6a7921cb29",
       "version_major": 2,
       "version_minor": 0
      },
      "text/plain": [
       "modules.json:   0%|          | 0.00/349 [00:00<?, ?B/s]"
      ]
     },
     "metadata": {},
     "output_type": "display_data"
    },
    {
     "name": "stderr",
     "output_type": "stream",
     "text": [
      "C:\\Users\\solid\\anaconda3\\envs\\sentence_transformers\\Lib\\site-packages\\huggingface_hub\\file_download.py:143: UserWarning: `huggingface_hub` cache-system uses symlinks by default to efficiently store duplicated files but your machine does not support them in C:\\Users\\solid\\.cache\\huggingface\\hub\\models--sentence-transformers--all-MiniLM-L6-v2. Caching files will still work but in a degraded version that might require more space on your disk. This warning can be disabled by setting the `HF_HUB_DISABLE_SYMLINKS_WARNING` environment variable. For more details, see https://huggingface.co/docs/huggingface_hub/how-to-cache#limitations.\n",
      "To support symlinks on Windows, you either need to activate Developer Mode or to run Python as an administrator. In order to activate developer mode, see this article: https://docs.microsoft.com/en-us/windows/apps/get-started/enable-your-device-for-development\n",
      "  warnings.warn(message)\n"
     ]
    },
    {
     "data": {
      "application/vnd.jupyter.widget-view+json": {
       "model_id": "626e0b85b04c428faacc16ad1b5a8ae5",
       "version_major": 2,
       "version_minor": 0
      },
      "text/plain": [
       "config_sentence_transformers.json:   0%|          | 0.00/116 [00:00<?, ?B/s]"
      ]
     },
     "metadata": {},
     "output_type": "display_data"
    },
    {
     "data": {
      "application/vnd.jupyter.widget-view+json": {
       "model_id": "d7cefd51296446798c0db7c2bab7f3d4",
       "version_major": 2,
       "version_minor": 0
      },
      "text/plain": [
       "README.md:   0%|          | 0.00/10.5k [00:00<?, ?B/s]"
      ]
     },
     "metadata": {},
     "output_type": "display_data"
    },
    {
     "data": {
      "application/vnd.jupyter.widget-view+json": {
       "model_id": "b00a5b9314fb416a92c776d2ba6df40b",
       "version_major": 2,
       "version_minor": 0
      },
      "text/plain": [
       "sentence_bert_config.json:   0%|          | 0.00/53.0 [00:00<?, ?B/s]"
      ]
     },
     "metadata": {},
     "output_type": "display_data"
    },
    {
     "data": {
      "application/vnd.jupyter.widget-view+json": {
       "model_id": "285650e68b4543749c4155b21f74e82b",
       "version_major": 2,
       "version_minor": 0
      },
      "text/plain": [
       "config.json:   0%|          | 0.00/612 [00:00<?, ?B/s]"
      ]
     },
     "metadata": {},
     "output_type": "display_data"
    },
    {
     "name": "stderr",
     "output_type": "stream",
     "text": [
      "Xet Storage is enabled for this repo, but the 'hf_xet' package is not installed. Falling back to regular HTTP download. For better performance, install the package with: `pip install huggingface_hub[hf_xet]` or `pip install hf_xet`\n"
     ]
    },
    {
     "data": {
      "application/vnd.jupyter.widget-view+json": {
       "model_id": "be3f18e3ede0453780f53627eac21a41",
       "version_major": 2,
       "version_minor": 0
      },
      "text/plain": [
       "model.safetensors:   0%|          | 0.00/90.9M [00:00<?, ?B/s]"
      ]
     },
     "metadata": {},
     "output_type": "display_data"
    },
    {
     "data": {
      "application/vnd.jupyter.widget-view+json": {
       "model_id": "646ca1c780f24ff6aec111cfad5e4adf",
       "version_major": 2,
       "version_minor": 0
      },
      "text/plain": [
       "tokenizer_config.json:   0%|          | 0.00/350 [00:00<?, ?B/s]"
      ]
     },
     "metadata": {},
     "output_type": "display_data"
    },
    {
     "data": {
      "application/vnd.jupyter.widget-view+json": {
       "model_id": "6440b232fd0d40c2b0da2261ad952bec",
       "version_major": 2,
       "version_minor": 0
      },
      "text/plain": [
       "vocab.txt:   0%|          | 0.00/232k [00:00<?, ?B/s]"
      ]
     },
     "metadata": {},
     "output_type": "display_data"
    },
    {
     "data": {
      "application/vnd.jupyter.widget-view+json": {
       "model_id": "63e43add94a041198dfc402ec9f19332",
       "version_major": 2,
       "version_minor": 0
      },
      "text/plain": [
       "tokenizer.json:   0%|          | 0.00/466k [00:00<?, ?B/s]"
      ]
     },
     "metadata": {},
     "output_type": "display_data"
    },
    {
     "data": {
      "application/vnd.jupyter.widget-view+json": {
       "model_id": "86c5f427b8194597a7b8811a17e69ad0",
       "version_major": 2,
       "version_minor": 0
      },
      "text/plain": [
       "special_tokens_map.json:   0%|          | 0.00/112 [00:00<?, ?B/s]"
      ]
     },
     "metadata": {},
     "output_type": "display_data"
    },
    {
     "data": {
      "application/vnd.jupyter.widget-view+json": {
       "model_id": "adb09897ea7b45edbf92d3dffc0f34a2",
       "version_major": 2,
       "version_minor": 0
      },
      "text/plain": [
       "config.json:   0%|          | 0.00/190 [00:00<?, ?B/s]"
      ]
     },
     "metadata": {},
     "output_type": "display_data"
    }
   ],
   "source": [
    "embedder = SentenceTransformer('all-MiniLM-L6-v2')"
   ]
  },
  {
   "cell_type": "code",
   "execution_count": 16,
   "id": "369b82b2-a0a3-44be-b89b-097d72a53521",
   "metadata": {},
   "outputs": [
    {
     "name": "stdout",
     "output_type": "stream",
     "text": [
      "[[ 6.76569417e-02  6.34959564e-02  4.87131029e-02  7.93048963e-02\n",
      "   3.74480709e-02  2.65277619e-03  3.93749177e-02 -7.09846616e-03\n",
      "   5.93614057e-02  3.15370224e-02  6.00980818e-02 -5.29052354e-02\n",
      "   4.06067409e-02 -2.59308442e-02  2.98428535e-02  1.12691487e-03\n",
      "   7.35148937e-02 -5.03818579e-02 -1.22386597e-01  2.37028375e-02\n",
      "   2.97265276e-02  4.24768776e-02  2.56337691e-02  1.99514348e-03\n",
      "  -5.69190495e-02 -2.71597989e-02 -3.29035297e-02  6.60248995e-02\n",
      "   1.19007193e-01 -4.58791330e-02 -7.26214200e-02 -3.25840116e-02\n",
      "   5.23414016e-02  4.50553410e-02  8.25305004e-03  3.67024243e-02\n",
      "  -1.39415674e-02  6.53918684e-02 -2.64272075e-02  2.06393175e-04\n",
      "  -1.36643527e-02 -3.62811014e-02 -1.95043907e-02 -2.89738420e-02\n",
      "   3.94270532e-02 -8.84090662e-02  2.62423488e-03  1.36713171e-02\n",
      "   4.83062454e-02 -3.11566181e-02 -1.17329188e-01 -5.11690676e-02\n",
      "  -8.85287672e-02 -2.18963325e-02  1.42986281e-02  4.44167778e-02\n",
      "  -1.34816021e-02  7.43392631e-02  2.66382936e-02 -1.98762678e-02\n",
      "   1.79191213e-02 -1.06052039e-02 -9.04262811e-02  2.13268865e-02\n",
      "   1.41204834e-01 -6.47176104e-03 -1.40378485e-03 -1.53609365e-02\n",
      "  -8.73571262e-02  7.22174048e-02  2.01402996e-02  4.25587818e-02\n",
      "  -3.49013768e-02  3.19474493e-04 -8.02971125e-02 -3.27472091e-02\n",
      "   2.85268556e-02 -5.13657555e-02  1.09389186e-01  8.19327682e-02\n",
      "  -9.84040275e-02 -9.34096426e-02 -1.51291797e-02  4.51249368e-02\n",
      "   4.94172126e-02 -2.51868013e-02  1.57077573e-02 -1.29290745e-01\n",
      "   5.31888986e-03  4.02342249e-03 -2.34571211e-02 -6.72982708e-02\n",
      "   2.92280186e-02 -2.60845311e-02  1.30625125e-02 -3.11663151e-02\n",
      "  -4.82713841e-02 -5.58859296e-02 -3.87505293e-02  1.20010898e-01\n",
      "  -1.03924535e-02  4.89705503e-02  5.53537235e-02  4.49358188e-02\n",
      "  -4.00977908e-03 -1.02959782e-01 -2.92968899e-02 -5.83403148e-02\n",
      "   2.70472821e-02 -2.20169015e-02 -7.22240880e-02 -4.13869657e-02\n",
      "  -1.93298385e-02  2.73327855e-03  2.77042243e-04 -9.67589095e-02\n",
      "  -1.00574717e-01 -1.41922859e-02 -8.07891712e-02  4.53925133e-02\n",
      "   2.45041493e-02  5.97614087e-02 -7.38184974e-02  1.19844154e-02\n",
      "  -6.63403794e-02 -7.69045353e-02  3.85157876e-02 -5.59362366e-33\n",
      "   2.80014202e-02 -5.60784973e-02 -4.86601442e-02  2.15568934e-02\n",
      "   6.01981133e-02 -4.81402166e-02 -3.50247063e-02  1.93313845e-02\n",
      "  -1.75152197e-02 -3.89210507e-02 -3.81067279e-03 -1.70287751e-02\n",
      "   2.82099918e-02  1.28290914e-02  4.71600927e-02  6.21030666e-02\n",
      "  -6.43588975e-02  1.29285574e-01 -1.31231202e-02  5.23069538e-02\n",
      "  -3.73681039e-02  2.89094578e-02 -1.68980882e-02 -2.37330496e-02\n",
      "  -3.33491862e-02 -5.16762994e-02  1.55356592e-02  2.08802894e-02\n",
      "  -1.25371739e-02  4.59578820e-02  3.72719876e-02  2.80566458e-02\n",
      "  -5.90005219e-02 -1.16988299e-02  4.92182858e-02  4.70329039e-02\n",
      "   7.35487789e-02 -3.70530263e-02  3.98460124e-03  1.06411763e-02\n",
      "  -1.61481134e-04 -5.27165532e-02  2.75927819e-02 -3.92921120e-02\n",
      "   8.44717473e-02  4.86861020e-02 -4.85870475e-03  1.79948695e-02\n",
      "  -4.28569205e-02  1.23375608e-02  6.39952580e-03  4.04823311e-02\n",
      "   1.48886545e-02 -1.53941317e-02  7.62948841e-02  2.37044189e-02\n",
      "   4.45237234e-02  5.08196689e-02 -2.31253076e-03 -1.88736822e-02\n",
      "  -1.23335784e-02  4.66001630e-02 -5.63437901e-02  6.29928112e-02\n",
      "  -3.15535143e-02  3.24912518e-02  2.34673563e-02 -6.55438229e-02\n",
      "   2.01709159e-02  2.57082619e-02 -1.23869097e-02 -8.36491212e-03\n",
      "  -6.64377958e-02  9.43073481e-02 -3.57093252e-02 -3.42482999e-02\n",
      "  -6.66356925e-03 -8.01525731e-03 -3.09711229e-02  4.33012024e-02\n",
      "  -8.21396895e-03 -1.50795043e-01  3.07691675e-02  4.00719717e-02\n",
      "  -3.79293188e-02  1.93217210e-03  4.00530994e-02 -8.77075195e-02\n",
      "  -3.68490815e-02  8.57964996e-03 -3.19251940e-02 -1.25257680e-02\n",
      "   7.35540017e-02  1.34735845e-03  2.05918569e-02  2.71098366e-33\n",
      "  -5.18576466e-02  5.78361340e-02 -9.18985531e-02  3.94421555e-02\n",
      "   1.05576560e-01 -1.96911916e-02  6.18402250e-02 -7.63465241e-02\n",
      "   2.40880530e-02  9.40049216e-02 -1.16535410e-01  3.71198654e-02\n",
      "   5.22425696e-02 -3.95857869e-03  5.72214834e-02  5.32852393e-03\n",
      "   1.24016851e-01  1.39022572e-02 -1.10250209e-02  3.56053077e-02\n",
      "  -3.30755040e-02  8.16574320e-02 -1.52004082e-02  6.05585761e-02\n",
      "  -6.01397604e-02  3.26102227e-02 -3.48296203e-02 -1.69881806e-02\n",
      "  -9.74907205e-02 -2.71484610e-02  1.74711633e-03 -7.68982619e-02\n",
      "  -4.31858189e-02 -1.89984385e-02 -2.91661024e-02  5.77488132e-02\n",
      "   2.41821315e-02 -1.16902422e-02 -6.21435121e-02  2.84351185e-02\n",
      "  -2.37509070e-04 -2.51783691e-02  4.39638458e-03  8.12839717e-02\n",
      "   3.64183746e-02 -6.04006127e-02 -3.65517214e-02 -7.93748572e-02\n",
      "  -5.08519588e-03  6.69698641e-02 -1.17784359e-01  3.23743336e-02\n",
      "  -4.71252836e-02 -1.34459762e-02 -9.48444828e-02  8.24952405e-03\n",
      "  -1.06748492e-02 -6.81881756e-02  1.11815624e-03  2.48020142e-02\n",
      "  -6.35889247e-02  2.84493398e-02 -2.61303876e-02  8.58111158e-02\n",
      "   1.14682265e-01 -5.35345823e-02 -5.63588552e-02  4.26009446e-02\n",
      "   1.09454580e-02  2.09579393e-02  1.00131087e-01  3.26050930e-02\n",
      "  -1.84208810e-01 -3.93208489e-02 -6.91454858e-02 -6.38104975e-02\n",
      "  -6.56386092e-02 -6.41250331e-03 -4.79612239e-02 -7.68133402e-02\n",
      "   2.95384806e-02 -2.29948126e-02  4.17036861e-02 -2.50048023e-02\n",
      "  -4.54506325e-03 -4.17136289e-02 -1.32289538e-02 -6.38357475e-02\n",
      "  -2.46470957e-03 -1.37337623e-02  1.68976486e-02 -6.30397946e-02\n",
      "   8.98880661e-02  4.18171361e-02 -1.85687486e-02 -1.80442203e-08\n",
      "  -1.67998113e-02 -3.21577750e-02  6.30383641e-02 -4.13091779e-02\n",
      "   4.44818512e-02  2.02465826e-03  6.29592463e-02 -5.17372787e-03\n",
      "  -1.00444360e-02 -3.05640046e-02  3.52673084e-02  5.58581278e-02\n",
      "  -4.67124581e-02  3.45103405e-02  3.29577923e-02  4.30114418e-02\n",
      "   2.94360984e-02 -3.03164925e-02 -1.71107780e-02  7.37484768e-02\n",
      "  -5.47910184e-02  2.77515333e-02  6.20166445e-03  1.58800371e-02\n",
      "   3.42978872e-02 -5.15752332e-03  2.35079918e-02  7.53135830e-02\n",
      "   1.92843098e-02  3.36197019e-02  5.09103350e-02  1.52497098e-01\n",
      "   1.64207704e-02  2.70528309e-02  3.75162177e-02  2.18552630e-02\n",
      "   5.66333644e-02 -3.95746306e-02  7.12313578e-02 -5.41377515e-02\n",
      "   1.03766785e-03  2.11852826e-02 -3.56309339e-02  1.09016888e-01\n",
      "   2.76535540e-03  3.13997492e-02  1.38421520e-03 -3.45738530e-02\n",
      "  -4.59278002e-02  2.88083479e-02  7.16900127e-03  4.84684594e-02\n",
      "   2.61018667e-02 -9.44069773e-03  2.82169618e-02  3.48724686e-02\n",
      "   3.69098783e-02 -8.58951639e-03 -3.53205428e-02 -2.47857179e-02\n",
      "  -1.91921089e-02  3.80707346e-02  5.99653088e-02 -4.22287583e-02]\n",
      " [ 8.64386186e-02  1.02762640e-01  5.39459009e-03  2.04444467e-03\n",
      "  -9.96333174e-03  2.53855307e-02  4.92875278e-02 -3.06265336e-02\n",
      "   6.87254742e-02  1.01365978e-02  7.75397792e-02 -9.00807604e-02\n",
      "   6.10617967e-03 -5.69898561e-02  1.41714737e-02  2.80491896e-02\n",
      "  -8.68465006e-02  7.64399022e-02 -1.03491336e-01 -6.77438080e-02\n",
      "   6.99946731e-02  8.44251215e-02 -7.24912016e-03  1.04770251e-02\n",
      "   1.34020718e-02  6.77577108e-02 -9.42086354e-02 -3.71690020e-02\n",
      "   5.22617474e-02 -3.10853347e-02 -9.63406861e-02  1.57716777e-02\n",
      "   2.57866438e-02  7.85245225e-02  7.89949074e-02  1.91516019e-02\n",
      "   1.64356697e-02  3.10087577e-03  3.81311364e-02  2.37090718e-02\n",
      "   1.05389925e-02 -4.40644659e-02  4.41738851e-02 -2.58727930e-02\n",
      "   6.15378693e-02 -4.05427888e-02 -8.64139870e-02  3.19722369e-02\n",
      "  -8.90655385e-04 -2.44437438e-02 -9.19720978e-02  2.33939607e-02\n",
      "  -8.30293372e-02  4.41510752e-02 -2.49693133e-02  6.23020530e-02\n",
      "  -1.30354939e-03  7.51395598e-02  2.46385187e-02 -6.47244602e-02\n",
      "  -1.17727757e-01  3.83392200e-02 -9.11767483e-02  6.35445938e-02\n",
      "   7.62739927e-02 -8.80241320e-02  9.54558980e-03 -4.69717681e-02\n",
      "  -8.41740519e-02  3.88824008e-02 -1.14393547e-01  6.28858944e-03\n",
      "  -3.49361785e-02  2.39750128e-02 -3.31316851e-02 -1.57243740e-02\n",
      "  -3.78955640e-02 -8.81250110e-03  7.06119165e-02  3.28066610e-02\n",
      "   2.03670748e-03 -1.12279005e-01  6.79721404e-03  1.22765806e-02\n",
      "   3.35303992e-02 -1.36200720e-02 -2.25490164e-02 -2.25228965e-02\n",
      "  -2.03194916e-02  5.04297465e-02 -7.48652741e-02 -8.22822452e-02\n",
      "   7.65962675e-02  4.93391976e-02 -3.75553370e-02  1.44634498e-02\n",
      "  -5.72458208e-02 -1.79954544e-02  1.09697953e-01  1.19462796e-01\n",
      "   8.09218735e-04  6.17057346e-02  3.26322243e-02 -1.30780101e-01\n",
      "  -1.48636624e-01 -6.16232529e-02  4.33886014e-02  2.67129280e-02\n",
      "   1.39785958e-02 -3.94002311e-02 -2.52711661e-02  3.87742114e-03\n",
      "   3.58664766e-02 -6.15420267e-02  3.76660526e-02  2.67565195e-02\n",
      "  -3.82659324e-02 -3.54793221e-02 -2.39227433e-02  8.67977366e-02\n",
      "  -1.84062775e-02  7.71039501e-02  1.39859400e-03  7.00383186e-02\n",
      "  -4.77877632e-02 -7.89819732e-02  5.10814711e-02 -2.99868297e-33\n",
      "  -3.91646400e-02 -2.56212428e-03  1.65210702e-02  9.48939100e-03\n",
      "  -5.66219315e-02  6.57783151e-02 -4.77002710e-02  1.11661917e-02\n",
      "  -5.73558509e-02 -9.16259550e-03 -2.17521358e-02 -5.59531748e-02\n",
      "  -1.11423098e-02  9.32793096e-02  1.66765172e-02 -1.36723677e-02\n",
      "   4.34388407e-02  1.87244453e-03  7.29948329e-03  5.16332202e-02\n",
      "   4.80608270e-02  1.35341421e-01 -1.71738882e-02 -1.29698580e-02\n",
      "  -7.50110149e-02  2.61107851e-02  2.69802064e-02  7.83080002e-04\n",
      "  -4.87270579e-02  1.17842667e-02 -4.59580608e-02 -4.83213142e-02\n",
      "  -1.95671171e-02  1.93889644e-02  1.98807288e-02  1.67432316e-02\n",
      "   9.87801328e-02 -2.74087656e-02  2.34809089e-02  3.70230130e-03\n",
      "  -6.14515133e-02 -1.21230143e-03 -9.50473547e-03  9.25153401e-03\n",
      "   2.38443948e-02  8.61231983e-02  2.26789732e-02  5.45134302e-04\n",
      "   3.47129293e-02  6.25465577e-03 -6.92776730e-03  3.92400324e-02\n",
      "   1.15674883e-02  3.26280147e-02  6.22155555e-02  2.76114438e-02\n",
      "   1.86883416e-02  3.55806202e-02  4.11796197e-02  1.54782515e-02\n",
      "   4.22691517e-02  3.82248424e-02  1.00313174e-02 -2.83245966e-02\n",
      "   4.47052568e-02 -4.10458855e-02 -4.50547598e-03 -5.44734262e-02\n",
      "   2.62320656e-02  1.79862622e-02 -1.23118743e-01 -4.66952100e-02\n",
      "  -1.35913156e-02  6.46710768e-02  3.57349613e-03 -1.22233965e-02\n",
      "  -1.79382227e-02 -2.55501978e-02  2.37224102e-02  4.08668909e-03\n",
      "  -6.51476234e-02  4.43651415e-02  4.68596071e-02 -3.25175226e-02\n",
      "   4.02265880e-03 -3.97606753e-03  1.11939432e-02 -9.95597765e-02\n",
      "   3.33168171e-02  8.01060647e-02  9.42692012e-02 -6.38294369e-02\n",
      "   3.23151648e-02 -5.13553210e-02 -7.49873789e-03  5.30048035e-34\n",
      "  -4.13194820e-02  9.49646905e-02 -1.06401421e-01  4.96590547e-02\n",
      "  -3.41913216e-02 -3.16745602e-02 -1.71556138e-02  1.70102133e-03\n",
      "   5.79757802e-02 -1.21775281e-03 -1.68536231e-02 -5.16912304e-02\n",
      "   5.52999042e-02 -3.42647545e-02  3.08179427e-02 -3.10480632e-02\n",
      "   9.27532539e-02  3.72663774e-02 -2.37398259e-02  4.45893556e-02\n",
      "   1.46153728e-02  1.16239399e-01 -5.00112772e-02  3.88716348e-02\n",
      "   4.24741907e-03  2.56976653e-02  3.27243507e-02  4.29907516e-02\n",
      "  -1.36144720e-02  2.56121922e-02  1.06262350e-02 -8.46863911e-02\n",
      "  -9.52982306e-02  1.08399853e-01 -7.51600116e-02 -1.37773305e-02\n",
      "   6.37338385e-02 -4.49670106e-03 -3.25321406e-02  6.23613931e-02\n",
      "   3.48053165e-02 -3.54922414e-02 -2.00222488e-02  3.66608202e-02\n",
      "  -2.48837043e-02  1.01818396e-02 -7.01233074e-02 -4.31951135e-02\n",
      "   2.95333043e-02 -2.94897152e-04 -3.45386937e-02  1.46676069e-02\n",
      "  -9.83969569e-02 -4.70487997e-02 -8.85497779e-03 -8.89913887e-02\n",
      "   3.50996107e-02 -1.29601985e-01 -4.98866327e-02 -6.12047128e-02\n",
      "  -5.97797856e-02  9.46318451e-03  4.91217524e-02 -7.75026679e-02\n",
      "   8.09727535e-02 -4.79257703e-02  2.34378478e-03  7.57031292e-02\n",
      "  -2.40175501e-02 -1.52546102e-02  4.86738607e-02 -3.85968462e-02\n",
      "  -7.04831481e-02 -1.20348325e-02 -3.88790555e-02 -7.76017085e-02\n",
      "  -1.07243825e-02  1.04188006e-02 -2.13754009e-02 -9.17386487e-02\n",
      "  -1.11344792e-02 -2.96066254e-02  2.46458128e-02  4.65710741e-03\n",
      "  -1.63449664e-02 -3.95219587e-02  7.73373842e-02 -2.84732878e-02\n",
      "  -3.69940023e-03  8.27665329e-02 -1.10409427e-02  3.13983113e-02\n",
      "   5.35094514e-02  5.75145595e-02 -3.17622237e-02 -1.52911266e-08\n",
      "  -7.99661279e-02 -4.76796851e-02 -8.59788880e-02  5.69616966e-02\n",
      "  -4.08866741e-02  2.23832317e-02 -4.64447960e-03 -3.80130671e-02\n",
      "  -3.10671069e-02 -1.07278088e-02  1.97698511e-02  7.77003681e-03\n",
      "  -6.09470485e-03 -3.86375748e-02  2.80271824e-02  6.78137615e-02\n",
      "  -2.35351883e-02  3.21747027e-02  8.02536681e-03 -2.39107441e-02\n",
      "  -1.21995620e-03  3.14598717e-02 -5.24924137e-02 -8.06814060e-03\n",
      "   3.14776623e-03  5.11496365e-02 -4.44104485e-02  6.36013523e-02\n",
      "   3.85084078e-02  3.30433398e-02 -4.18728171e-03  4.95592803e-02\n",
      "  -5.69605418e-02 -6.49710884e-03 -2.49792952e-02 -1.60866864e-02\n",
      "   6.62289709e-02 -2.06310973e-02  1.08045734e-01  1.68547146e-02\n",
      "   1.43812140e-02 -1.32127302e-02 -1.29387408e-01  6.95216507e-02\n",
      "  -5.55772707e-02 -6.75413162e-02 -5.45820827e-03 -6.13595359e-03\n",
      "   3.90841104e-02 -6.28779158e-02  3.74063365e-02 -1.16570946e-02\n",
      "   1.29150003e-02 -5.52495457e-02  5.16075641e-02 -4.30842442e-03\n",
      "   5.80247715e-02  1.86945219e-02  2.27810405e-02  3.21665518e-02\n",
      "   5.37978746e-02  7.02849030e-02  7.49312192e-02 -8.41775090e-02]]\n"
     ]
    }
   ],
   "source": [
    "sentences = [\"This is an example sentence\", \"Each sentence is converted\"]\n",
    "\n",
    "embeddings = embedder.encode(sentences)\n",
    "print(embeddings)"
   ]
  },
  {
   "cell_type": "code",
   "execution_count": 19,
   "id": "0c58a53b-3130-416a-b43d-7250c8259845",
   "metadata": {},
   "outputs": [
    {
     "data": {
      "text/plain": [
       "list"
      ]
     },
     "execution_count": 19,
     "metadata": {},
     "output_type": "execute_result"
    }
   ],
   "source": [
    "type(sentences)"
   ]
  },
  {
   "cell_type": "markdown",
   "id": "cf339d4b-23e6-4034-84bf-7198135f758a",
   "metadata": {},
   "source": [
    "Use this new embedder to vectorize the abstracts and then find the most similar to the query. How do the results compare to the other methods?\n",
    "\n",
    "**Warning:** Creating embeddings for all of the articles may take a while."
   ]
  },
  {
   "cell_type": "code",
   "execution_count": 56,
   "id": "ceb666a0-11b3-42fb-b4d0-2e9b5d83dcf0",
   "metadata": {},
   "outputs": [],
   "source": [
    "article_embeddings = embedder.encode(articles['abstract'])\n",
    "query_embeddings = embedder.encode(query_list)"
   ]
  },
  {
   "cell_type": "code",
   "execution_count": 58,
   "id": "604f458c-df33-4696-9f59-273bfe2c7044",
   "metadata": {},
   "outputs": [
    {
     "data": {
      "text/plain": [
       "array([247, 209, 233, 107, 259], dtype=int64)"
      ]
     },
     "execution_count": 58,
     "metadata": {},
     "output_type": "execute_result"
    }
   ],
   "source": [
    "similarity_scores3 = cosine_similarity(article_embeddings, query_embeddings)\n",
    "similarity_score_sorted3 = np.argsort(similarity_scores3.flatten())\n",
    "similarity_score_sorted3[-5:]"
   ]
  },
  {
   "cell_type": "code",
   "execution_count": 60,
   "id": "dd7ef2db-a9b1-4558-ad75-0f5d37d7aca2",
   "metadata": {},
   "outputs": [
    {
     "data": {
      "text/plain": [
       "['Distance Adaptive Beam Search for Provably Accurate Graph-Based Nearest Neighbor Search',\n",
       " 'The Atlas of In-Context Learning: How Attention Heads Shape In-Context Retrieval Augmentation',\n",
       " 'HDLxGraph: Bridging Large Language Models and HDL Repositories via HDL Graph Databases',\n",
       " 'Attributing Response to Context: A Jensen-Shannon Divergence Driven Mechanistic Study of Context Attribution in Retrieval-Augmented Generation',\n",
       " 'MIRB: Mathematical Information Retrieval Benchmark']"
      ]
     },
     "execution_count": 60,
     "metadata": {},
     "output_type": "execute_result"
    }
   ],
   "source": [
    "articles.loc[similarity_score_sorted3[-5:], 'title'].tolist()"
   ]
  },
  {
   "cell_type": "markdown",
   "id": "4f8dec64-2aa7-40af-adfd-230c19671593",
   "metadata": {},
   "source": [
    "### FAISS\n",
    "\n",
    "The [Faiss library](https://faiss.ai/index.html) is a library for efficient similarity search and clustering of dense vectors. It can be used to automate the process of finding the most similar abstracts.\n",
    "\n",
    "If we want to use cosine similarity, we need to use the Inner Product. We also need to normalize our vectors so that they all have length 1.\n",
    "\n",
    "Use the [normalize function](https://scikit-learn.org/stable/modules/generated/sklearn.preprocessing.normalize.html) to normalize both the abstract vectors and the query vector."
   ]
  },
  {
   "cell_type": "code",
   "execution_count": 61,
   "id": "9e5225fb-e429-4337-92f4-9cdb2468ce78",
   "metadata": {},
   "outputs": [],
   "source": [
    "abstract_norm = normalize(article_embeddings)\n",
    "query_norm = normalize(query_embeddings)"
   ]
  },
  {
   "cell_type": "code",
   "execution_count": 62,
   "id": "5a31cc66-938e-469c-acef-f1bb1fd81879",
   "metadata": {},
   "outputs": [
    {
     "name": "stdout",
     "output_type": "stream",
     "text": [
      "384\n",
      "384\n"
     ]
    }
   ],
   "source": [
    "print(abstract_norm.shape[1])\n",
    "print(query_norm.shape[1])"
   ]
  },
  {
   "cell_type": "markdown",
   "id": "393bb61e-471a-4660-99d7-e3e513d34098",
   "metadata": {},
   "source": [
    "Now, create an [IndexFlatIP object](https://github.com/facebookresearch/faiss/wiki/Faiss-indexes#summary-of-methods) that has dimensions equal to the dimensionality of your vectors. Then add your normalized abstract vectors.\n",
    "\n",
    "Hint: You can mimic the example [here](https://github.com/facebookresearch/faiss/wiki/Getting-started#building-an-index-and-adding-the-vectors-to-it), but substitute in the IndexFlatIP class."
   ]
  },
  {
   "cell_type": "code",
   "execution_count": 63,
   "id": "18f7cc7f-8889-4b0c-8bd5-54c760ab4dfb",
   "metadata": {},
   "outputs": [
    {
     "name": "stdout",
     "output_type": "stream",
     "text": [
      "True\n",
      "500\n"
     ]
    }
   ],
   "source": [
    "index = faiss.IndexFlatIP(384)   \n",
    "print(index.is_trained)\n",
    "index.add(abstract_norm)                  \n",
    "print(index.ntotal)"
   ]
  },
  {
   "cell_type": "markdown",
   "id": "b76e3f95-6f37-4918-800a-094314b9554a",
   "metadata": {},
   "source": [
    "Finally, use the [search function](https://github.com/facebookresearch/faiss/wiki/Getting-started#searching) on your index object to find the 5 most similar articles."
   ]
  },
  {
   "cell_type": "code",
   "execution_count": 65,
   "id": "f884c016-444b-4714-85fc-07a8cdaf2247",
   "metadata": {},
   "outputs": [
    {
     "name": "stdout",
     "output_type": "stream",
     "text": [
      "[[259 107 233 209 247]]\n",
      "[[259 107 233 209 247]]\n"
     ]
    }
   ],
   "source": [
    "k = 5  \n",
    "D, I = index.search(query_norm, k)     \n",
    "print(I[:5])                  \n",
    "print(I[-5:])                  \n"
   ]
  },
  {
   "cell_type": "code",
   "execution_count": 67,
   "id": "1b460613-48a5-43c6-963b-6a177d422ac6",
   "metadata": {},
   "outputs": [
    {
     "data": {
      "text/plain": [
       "['MIRB: Mathematical Information Retrieval Benchmark',\n",
       " 'Attributing Response to Context: A Jensen-Shannon Divergence Driven Mechanistic Study of Context Attribution in Retrieval-Augmented Generation',\n",
       " 'HDLxGraph: Bridging Large Language Models and HDL Repositories via HDL Graph Databases',\n",
       " 'The Atlas of In-Context Learning: How Attention Heads Shape In-Context Retrieval Augmentation',\n",
       " 'Distance Adaptive Beam Search for Provably Accurate Graph-Based Nearest Neighbor Search']"
      ]
     },
     "execution_count": 67,
     "metadata": {},
     "output_type": "execute_result"
    }
   ],
   "source": [
    "articles.loc[I[0], 'title'].tolist()"
   ]
  },
  {
   "cell_type": "code",
   "execution_count": 68,
   "id": "8758e0a8-5e5c-4a17-95da-86d2ff0354ad",
   "metadata": {},
   "outputs": [
    {
     "data": {
      "text/plain": [
       "(array([[0.47817037, 0.45547354, 0.45146084, 0.43434593, 0.4144665 ]],\n",
       "       dtype=float32),\n",
       " array([[259, 107, 233, 209, 247]], dtype=int64))"
      ]
     },
     "execution_count": 68,
     "metadata": {},
     "output_type": "execute_result"
    }
   ],
   "source": [
    "index.search(query_norm, k)"
   ]
  },
  {
   "cell_type": "code",
   "execution_count": null,
   "id": "edd4aa29-708f-4115-b425-ebec1c7285fa",
   "metadata": {},
   "outputs": [],
   "source": []
  }
 ],
 "metadata": {
  "kernelspec": {
   "display_name": "Python 3 (ipykernel)",
   "language": "python",
   "name": "python3"
  },
  "language_info": {
   "codemirror_mode": {
    "name": "ipython",
    "version": 3
   },
   "file_extension": ".py",
   "mimetype": "text/x-python",
   "name": "python",
   "nbconvert_exporter": "python",
   "pygments_lexer": "ipython3",
   "version": "3.12.10"
  }
 },
 "nbformat": 4,
 "nbformat_minor": 5
}
